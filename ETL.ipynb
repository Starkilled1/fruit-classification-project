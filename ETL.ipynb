{
 "cells": [
  {
   "cell_type": "code",
   "execution_count": null,
   "metadata": {},
   "outputs": [],
   "source": [
    "from config import DATABASE_URI\n",
    "import os\n",
    "import psycopg2"
   ]
  },
  {
   "cell_type": "code",
   "execution_count": null,
   "metadata": {},
   "outputs": [],
   "source": [
    "# Connect to the database\n",
    "conn = psycopg2.connect(DATABASE_URI)\n",
    "\n",
    "cursor = conn.cursor()"
   ]
  },
  {
   "cell_type": "code",
   "execution_count": null,
   "metadata": {},
   "outputs": [],
   "source": [
    "def store_image(image_path, fruit_name):\n",
    "    try:\n",
    "        with open(image_path, 'rb') as file:\n",
    "            binary_data = file.read()\n",
    "        \n",
    "        cursor.execute(\"\"\"\n",
    "            INSERT INTO fruits (fruit_name, image)\n",
    "            VALUES (%s, %s)\n",
    "        \"\"\", (fruit_name, binary_data))\n",
    "        conn.commit()\n",
    "        print(f'Successfully stored {image_path}')\n",
    "    except Exception as e:\n",
    "        print(f'Failed to store {image_path}: {e}')"
   ]
  },
  {
   "cell_type": "code",
   "execution_count": null,
   "metadata": {},
   "outputs": [],
   "source": [
    "# Directory containing the apple images\n",
    "base_dir = 'Fruit_db/FruitData_Base'\n",
    "apple_dir = os.path.join(base_dir, 'Apple', 'Total Number of Apples')\n",
    "\n",
    "# Store only apple images\n",
    "for filename in os.listdir(apple_dir):\n",
    "    if filename.endswith('.png'):\n",
    "        image_path = os.path.join(apple_dir, filename)\n",
    "        store_image(image_path, 'Apple')\n",
    "\n",
    "cursor.close()\n",
    "conn.close()"
   ]
  },
  {
   "cell_type": "code",
   "execution_count": null,
   "metadata": {},
   "outputs": [],
   "source": [
    "# Directory containing the banana images\n",
    "base_dir = 'Fruit_db/FruitData_Base'\n",
    "banana_dir = os.path.join(base_dir, 'Banana')\n",
    "\n",
    "# Store only banana images\n",
    "for filename in os.listdir(banana_dir):\n",
    "    if filename.endswith('.png'):\n",
    "        image_path = os.path.join(banana_dir, filename)\n",
    "        store_image(image_path, 'Banana')\n",
    "\n",
    "cursor.close()\n",
    "conn.close()"
   ]
  },
  {
   "cell_type": "code",
   "execution_count": null,
   "metadata": {},
   "outputs": [],
   "source": [
    "# Directory containing the banana images\n",
    "base_dir = 'Fruit_db/FruitData_Base'\n",
    "banana_dir = os.path.join(base_dir, 'Banana')\n",
    "\n",
    "# Store only banana images\n",
    "for filename in os.listdir(banana_dir):\n",
    "    if filename.endswith('.png'):\n",
    "        image_path = os.path.join(banana_dir, filename)\n",
    "        store_image(image_path, 'Banana')\n",
    "\n",
    "cursor.close()\n",
    "conn.close()"
   ]
  }
 ],
 "metadata": {
  "kernelspec": {
   "display_name": "dev",
   "language": "python",
   "name": "python3"
  },
  "language_info": {
   "codemirror_mode": {
    "name": "ipython",
    "version": 3
   },
   "file_extension": ".py",
   "mimetype": "text/x-python",
   "name": "python",
   "nbconvert_exporter": "python",
   "pygments_lexer": "ipython3",
   "version": "3.12.2"
  }
 },
 "nbformat": 4,
 "nbformat_minor": 2
}
