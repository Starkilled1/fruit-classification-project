{
 "cells": [
  {
   "cell_type": "code",
   "execution_count": 1,
   "metadata": {},
   "outputs": [],
   "source": [
    "from config import DATABASE_URI\n",
    "import os\n",
    "import psycopg2"
   ]
  },
  {
   "cell_type": "code",
   "execution_count": 2,
   "metadata": {},
   "outputs": [],
   "source": [
    "# Connect to the database\n",
    "conn = psycopg2.connect(DATABASE_URI)\n",
    "\n",
    "cursor = conn.cursor()"
   ]
  },
  {
   "cell_type": "code",
   "execution_count": null,
   "metadata": {},
   "outputs": [],
   "source": [
    "def store_image(image_path, fruit_name):\n",
    "    try:\n",
    "        with open(image_path, 'rb') as file:\n",
    "            binary_data = file.read()\n",
    "        \n",
    "        cursor.execute(\"\"\"\n",
    "            INSERT INTO fruits (fruit_name, image)\n",
    "            VALUES (%s, %s)\n",
    "        \"\"\", (fruit_name, binary_data))\n",
    "        conn.commit()\n",
    "        print(f'Successfully stored {image_path}')\n",
    "    except Exception as e:\n",
    "        print(f'Failed to store {image_path}: {e}')"
   ]
  },
  {
   "cell_type": "code",
   "execution_count": null,
   "metadata": {},
   "outputs": [],
   "source": [
    "# Directory containing the fruit images\n",
    "base_dir = 'Fruit_db/FruitData_Base'\n",
    "\n",
    "# Store images for each fruit\n",
    "fruit_dirs = {\n",
    "    'Apple': 'Apple/Total Number of Apples',\n",
    "    'Banana': 'Banana',\n",
    "    'Carambola': 'Carambola',\n",
    "    'Guava': 'Guava/guava total final',\n",
    "    'Kiwi': 'Kiwi/Total Number of Kiwi fruit',\n",
    "    'Mango': 'Mango',\n",
    "    'Muskmelon': 'muskmelon',\n",
    "    'Orange': 'Orange',\n",
    "    'Peach': 'Peach',\n",
    "    'Pear': 'Pear',\n",
    "    'Persimmon': 'Persimmon',\n",
    "    'Pitaya': 'Pitaya',\n",
    "    'Plum': 'Plum',\n",
    "    'Pomegranate': 'Pomegranate',\n",
    "    'Tomatoes': 'Tomatoes'\n",
    "}"
   ]
  },
  {
   "cell_type": "code",
   "execution_count": null,
   "metadata": {},
   "outputs": [],
   "source": [
    "for fruit, subdir in fruit_dirs.items():\n",
    "    fruit_dir = os.path.join(base_dir, subdir)\n",
    "    for filename in os.listdir(fruit_dir):\n",
    "        if filename.endswith('.png'):\n",
    "            image_path = os.path.join(fruit_dir, filename)\n",
    "            store_image(image_path, fruit)\n",
    "\n",
    "cursor.close()\n",
    "conn.close()"
   ]
  }
 ],
 "metadata": {
  "kernelspec": {
   "display_name": "dev",
   "language": "python",
   "name": "python3"
  },
  "language_info": {
   "codemirror_mode": {
    "name": "ipython",
    "version": 3
   },
   "file_extension": ".py",
   "mimetype": "text/x-python",
   "name": "python",
   "nbconvert_exporter": "python",
   "pygments_lexer": "ipython3",
   "version": "3.12.2"
  }
 },
 "nbformat": 4,
 "nbformat_minor": 2
}
