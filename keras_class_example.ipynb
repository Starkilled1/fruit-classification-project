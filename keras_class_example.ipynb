{
 "cells": [
  {
   "cell_type": "code",
   "execution_count": 3,
   "metadata": {},
   "outputs": [],
   "source": [
    "from config import DATABASE_URI\n",
    "import psycopg2\n",
    "from PIL import Image\n",
    "import io\n",
    "import numpy as np\n",
    "import random"
   ]
  },
  {
   "cell_type": "code",
   "execution_count": 4,
   "metadata": {},
   "outputs": [
    {
     "name": "stdout",
     "output_type": "stream",
     "text": [
      "Retrieved 21922 images from the database.\n"
     ]
    }
   ],
   "source": [
    "def get_images_from_db():\n",
    "    # Connect to the database\n",
    "    conn = psycopg2.connect(DATABASE_URI)\n",
    "\n",
    "    cursor = conn.cursor()\n",
    "    \n",
    "    # Query to get all fruit images\n",
    "    cursor.execute(\"SELECT fruit_name, image FROM fruits\")\n",
    "    rows = cursor.fetchall()\n",
    "    \n",
    "    # Shuffle and take only half\n",
    "    random.shuffle(rows)\n",
    "    rows = rows[:len(rows)//2]\n",
    "    \n",
    "    images = []\n",
    "    labels = []\n",
    "    for row in rows:\n",
    "        fruit_name, binary_data = row\n",
    "        image = Image.open(io.BytesIO(binary_data))\n",
    "        image = image.resize((128, 128))  # Resize for consistency\n",
    "        images.append(np.array(image))\n",
    "        labels.append(fruit_name)\n",
    "    \n",
    "    cursor.close()\n",
    "    conn.close()\n",
    "    \n",
    "    return np.array(images), np.array(labels)\n",
    "\n",
    "images, labels = get_images_from_db()\n",
    "print(f'Retrieved {len(images)} images from the database.')"
   ]
  },
  {
   "cell_type": "code",
   "execution_count": 5,
   "metadata": {},
   "outputs": [],
   "source": [
    "# Normalize the images\n",
    "images = images / 255.0\n",
    "\n",
    "# Encode labels as integers\n",
    "from sklearn.preprocessing import LabelEncoder\n",
    "\n",
    "label_encoder = LabelEncoder()\n",
    "labels = label_encoder.fit_transform(labels)"
   ]
  },
  {
   "cell_type": "code",
   "execution_count": 4,
   "metadata": {},
   "outputs": [],
   "source": [
    "import tensorflow as tf\n",
    "from tensorflow.keras import layers, models\n",
    "\n",
    "# Split data into train and test sets\n",
    "from sklearn.model_selection import train_test_split\n",
    "\n",
    "X_train, X_test, y_train, y_test = train_test_split(images, labels, test_size=0.2, random_state=42)\n"
   ]
  },
  {
   "cell_type": "code",
   "execution_count": 5,
   "metadata": {},
   "outputs": [],
   "source": [
    "\n",
    "# Convert to TensorFlow datasets\n",
    "train_dataset = tf.data.Dataset.from_tensor_slices((X_train, y_train)).shuffle(buffer_size=10000).batch(32).prefetch(tf.data.AUTOTUNE)\n",
    "test_dataset = tf.data.Dataset.from_tensor_slices((X_test, y_test)).batch(32).prefetch(tf.data.AUTOTUNE)"
   ]
  },
  {
   "cell_type": "code",
   "execution_count": 6,
   "metadata": {},
   "outputs": [
    {
     "name": "stderr",
     "output_type": "stream",
     "text": [
      "c:\\Users\\Javier Alarcon\\anaconda3\\envs\\dev\\Lib\\site-packages\\keras\\src\\layers\\convolutional\\base_conv.py:107: UserWarning: Do not pass an `input_shape`/`input_dim` argument to a layer. When using Sequential models, prefer using an `Input(shape)` object as the first layer in the model instead.\n",
      "  super().__init__(activity_regularizer=activity_regularizer, **kwargs)\n"
     ]
    }
   ],
   "source": [
    "# Build the model\n",
    "model = models.Sequential([\n",
    "    layers.Conv2D(32, (3, 3), activation='relu', input_shape=(128, 128, 3)),\n",
    "    layers.MaxPooling2D((2, 2)),\n",
    "    layers.Conv2D(64, (3, 3), activation='relu'),\n",
    "    layers.MaxPooling2D((2, 2)),\n",
    "    layers.Conv2D(64, (3, 3), activation='relu'),\n",
    "    layers.Flatten(),\n",
    "    layers.Dense(64, activation='relu'),\n",
    "    layers.Dense(len(label_encoder.classes_), activation='softmax')\n",
    "])\n",
    "\n",
    "model.compile(optimizer='adam',\n",
    "              loss='sparse_categorical_crossentropy',\n",
    "              metrics=['accuracy'])"
   ]
  },
  {
   "cell_type": "code",
   "execution_count": 7,
   "metadata": {},
   "outputs": [
    {
     "name": "stdout",
     "output_type": "stream",
     "text": [
      "Epoch 1/10\n",
      "\u001b[1m549/549\u001b[0m \u001b[32m━━━━━━━━━━━━━━━━━━━━\u001b[0m\u001b[37m\u001b[0m \u001b[1m81s\u001b[0m 133ms/step - accuracy: 0.5337 - loss: 1.4260 - val_accuracy: 0.8919 - val_loss: 0.3470\n",
      "Epoch 2/10\n",
      "\u001b[1m549/549\u001b[0m \u001b[32m━━━━━━━━━━━━━━━━━━━━\u001b[0m\u001b[37m\u001b[0m \u001b[1m64s\u001b[0m 116ms/step - accuracy: 0.9115 - loss: 0.2647 - val_accuracy: 0.6940 - val_loss: 1.3460\n",
      "Epoch 3/10\n",
      "\u001b[1m549/549\u001b[0m \u001b[32m━━━━━━━━━━━━━━━━━━━━\u001b[0m\u001b[37m\u001b[0m \u001b[1m63s\u001b[0m 114ms/step - accuracy: 0.9222 - loss: 0.2493 - val_accuracy: 0.9143 - val_loss: 0.2744\n",
      "Epoch 4/10\n",
      "\u001b[1m549/549\u001b[0m \u001b[32m━━━━━━━━━━━━━━━━━━━━\u001b[0m\u001b[37m\u001b[0m \u001b[1m63s\u001b[0m 114ms/step - accuracy: 0.9758 - loss: 0.0729 - val_accuracy: 0.8800 - val_loss: 0.4934\n",
      "Epoch 5/10\n",
      "\u001b[1m549/549\u001b[0m \u001b[32m━━━━━━━━━━━━━━━━━━━━\u001b[0m\u001b[37m\u001b[0m \u001b[1m62s\u001b[0m 113ms/step - accuracy: 0.9635 - loss: 0.1194 - val_accuracy: 0.9202 - val_loss: 0.3031\n",
      "Epoch 6/10\n",
      "\u001b[1m549/549\u001b[0m \u001b[32m━━━━━━━━━━━━━━━━━━━━\u001b[0m\u001b[37m\u001b[0m \u001b[1m62s\u001b[0m 113ms/step - accuracy: 0.9882 - loss: 0.0365 - val_accuracy: 0.9209 - val_loss: 0.3384\n",
      "Epoch 7/10\n",
      "\u001b[1m549/549\u001b[0m \u001b[32m━━━━━━━━━━━━━━━━━━━━\u001b[0m\u001b[37m\u001b[0m \u001b[1m63s\u001b[0m 114ms/step - accuracy: 0.9911 - loss: 0.0287 - val_accuracy: 0.9152 - val_loss: 0.3506\n",
      "Epoch 8/10\n",
      "\u001b[1m549/549\u001b[0m \u001b[32m━━━━━━━━━━━━━━━━━━━━\u001b[0m\u001b[37m\u001b[0m \u001b[1m62s\u001b[0m 114ms/step - accuracy: 0.9932 - loss: 0.0208 - val_accuracy: 0.9044 - val_loss: 0.4266\n",
      "Epoch 9/10\n",
      "\u001b[1m549/549\u001b[0m \u001b[32m━━━━━━━━━━━━━━━━━━━━\u001b[0m\u001b[37m\u001b[0m \u001b[1m62s\u001b[0m 114ms/step - accuracy: 0.9918 - loss: 0.0288 - val_accuracy: 0.9241 - val_loss: 0.3613\n",
      "Epoch 10/10\n",
      "\u001b[1m549/549\u001b[0m \u001b[32m━━━━━━━━━━━━━━━━━━━━\u001b[0m\u001b[37m\u001b[0m \u001b[1m63s\u001b[0m 114ms/step - accuracy: 0.9963 - loss: 0.0112 - val_accuracy: 0.9147 - val_loss: 0.4433\n"
     ]
    }
   ],
   "source": [
    "history = model.fit(\n",
    "    train_dataset,\n",
    "    epochs=10,\n",
    "    validation_data=test_dataset\n",
    ")"
   ]
  },
  {
   "cell_type": "code",
   "execution_count": 8,
   "metadata": {},
   "outputs": [
    {
     "name": "stderr",
     "output_type": "stream",
     "text": [
      "WARNING:absl:You are saving your model as an HDF5 file via `model.save()` or `keras.saving.save_model(model)`. This file format is considered legacy. We recommend using instead the native Keras format, e.g. `model.save('my_model.keras')` or `keras.saving.save_model(model, 'my_model.keras')`. \n"
     ]
    }
   ],
   "source": [
    "# Save the model\n",
    "model.save('fruit_classifier_model.h5')"
   ]
  },
  {
   "cell_type": "code",
   "execution_count": 9,
   "metadata": {},
   "outputs": [
    {
     "name": "stdout",
     "output_type": "stream",
     "text": [
      "138/138 - 5s - 35ms/step - accuracy: 0.9147 - loss: 0.4433\n",
      "Test accuracy: 0.914709210395813\n"
     ]
    }
   ],
   "source": [
    "# Evaluate the model\n",
    "test_loss, test_acc = model.evaluate(X_test, y_test, verbose=2)\n",
    "print(f'Test accuracy: {test_acc}')"
   ]
  },
  {
   "cell_type": "code",
   "execution_count": 11,
   "metadata": {},
   "outputs": [
    {
     "name": "stdout",
     "output_type": "stream",
     "text": [
      "\u001b[1m138/138\u001b[0m \u001b[32m━━━━━━━━━━━━━━━━━━━━\u001b[0m\u001b[37m\u001b[0m \u001b[1m4s\u001b[0m 31ms/step\n"
     ]
    }
   ],
   "source": [
    "# Predict on test data\n",
    "predictions = model.predict(X_test)\n",
    "predicted_labels = label_encoder.inverse_transform(np.argmax(predictions, axis=1))"
   ]
  },
  {
   "cell_type": "code",
   "execution_count": 13,
   "metadata": {},
   "outputs": [
    {
     "name": "stdout",
     "output_type": "stream",
     "text": [
      "Actual: Tomatoes, Predicted: Tomatoes\n",
      "Actual: Guava, Predicted: Guava\n",
      "Actual: Pear, Predicted: Pear\n",
      "Actual: Muskmelon, Predicted: Muskmelon\n",
      "Actual: Persimmon, Predicted: Persimmon\n",
      "Actual: Guava, Predicted: Guava\n",
      "Actual: Pear, Predicted: Pear\n",
      "Actual: Pear, Predicted: Pear\n",
      "Actual: Guava, Predicted: Guava\n",
      "Actual: Persimmon, Predicted: Persimmon\n",
      "Actual: Peach, Predicted: Peach\n",
      "Actual: Guava, Predicted: Guava\n",
      "Actual: Mango, Predicted: Mango\n",
      "Actual: Pear, Predicted: Pear\n",
      "Actual: Tomatoes, Predicted: Tomatoes\n",
      "Actual: Banana, Predicted: Banana\n",
      "Actual: Pitaya, Predicted: Pitaya\n",
      "Actual: Muskmelon, Predicted: Guava\n",
      "Actual: Guava, Predicted: Guava\n",
      "Actual: Kiwi, Predicted: Kiwi\n",
      "Actual: Apple, Predicted: Apple\n",
      "Actual: Pear, Predicted: Pear\n",
      "Actual: Kiwi, Predicted: Guava\n",
      "Actual: Pitaya, Predicted: Pitaya\n",
      "Actual: Banana, Predicted: Banana\n",
      "Actual: Peach, Predicted: Peach\n",
      "Actual: Orange, Predicted: Orange\n",
      "Actual: Guava, Predicted: Guava\n",
      "Actual: Mango, Predicted: Mango\n",
      "Actual: Kiwi, Predicted: Pomegranate\n",
      "Actual: Apple, Predicted: Apple\n",
      "Actual: Pitaya, Predicted: Pitaya\n",
      "Actual: Pear, Predicted: Pear\n",
      "Actual: Guava, Predicted: Guava\n",
      "Actual: Mango, Predicted: Mango\n",
      "Actual: Banana, Predicted: Banana\n",
      "Actual: Banana, Predicted: Banana\n",
      "Actual: Persimmon, Predicted: Persimmon\n",
      "Actual: Apple, Predicted: Apple\n",
      "Actual: Kiwi, Predicted: Kiwi\n",
      "Actual: Tomatoes, Predicted: Tomatoes\n",
      "Actual: Guava, Predicted: Guava\n",
      "Actual: Plum, Predicted: Plum\n",
      "Actual: Pitaya, Predicted: Pitaya\n",
      "Actual: Muskmelon, Predicted: Apple\n",
      "Actual: Carambola, Predicted: Carambola\n",
      "Actual: Mango, Predicted: Mango\n",
      "Actual: Guava, Predicted: Guava\n",
      "Actual: Orange, Predicted: Orange\n",
      "Actual: Pear, Predicted: Pear\n"
     ]
    }
   ],
   "source": [
    "# Print some of the predictions to see how the model performs\n",
    "for i in range(50):\n",
    "    print(f'Actual: {label_encoder.inverse_transform([y_test[i]])[0]}, Predicted: {predicted_labels[i]}')"
   ]
  },
  {
   "cell_type": "code",
   "execution_count": 6,
   "metadata": {},
   "outputs": [],
   "source": [
    "# Save the label encoder\n",
    "import pickle\n",
    "\n",
    "with open('label_encoder.pkl', 'wb') as file:\n",
    "    pickle.dump(label_encoder, file)"
   ]
  }
 ],
 "metadata": {
  "kernelspec": {
   "display_name": "dev",
   "language": "python",
   "name": "python3"
  },
  "language_info": {
   "codemirror_mode": {
    "name": "ipython",
    "version": 3
   },
   "file_extension": ".py",
   "mimetype": "text/x-python",
   "name": "python",
   "nbconvert_exporter": "python",
   "pygments_lexer": "ipython3",
   "version": "3.12.2"
  }
 },
 "nbformat": 4,
 "nbformat_minor": 2
}
